{
  "nbformat": 4,
  "nbformat_minor": 0,
  "metadata": {
    "colab": {
      "provenance": [],
      "authorship_tag": "ABX9TyPJIeRJsflOPC5zZJRo92+t",
      "include_colab_link": true
    },
    "kernelspec": {
      "name": "python3",
      "display_name": "Python 3"
    },
    "language_info": {
      "name": "python"
    }
  },
  "cells": [
    {
      "cell_type": "markdown",
      "metadata": {
        "id": "view-in-github",
        "colab_type": "text"
      },
      "source": [
        "<a href=\"https://colab.research.google.com/github/Harsharan0212/Python_Assignments/blob/main/PythonAssingment01.ipynb\" target=\"_parent\"><img src=\"https://colab.research.google.com/assets/colab-badge.svg\" alt=\"Open In Colab\"/></a>"
      ]
    },
    {
      "cell_type": "markdown",
      "source": [
        "----\n",
        "Assignment 01- Python Assignment\n",
        "----"
      ],
      "metadata": {
        "id": "LYa9v-vnhgjv"
      }
    },
    {
      "cell_type": "markdown",
      "source": [
        "-----\n",
        "Q1. "
      ],
      "metadata": {
        "id": "eXjVZLP7h-Mb"
      }
    },
    {
      "cell_type": "code",
      "execution_count": 32,
      "metadata": {
        "colab": {
          "base_uri": "https://localhost:8080/"
        },
        "id": "EOlATX80hbyg",
        "outputId": "38b272e8-9e3c-459e-9e52-239da9580b96"
      },
      "outputs": [
        {
          "output_type": "stream",
          "name": "stdout",
          "text": [
            "Original List ---->   [11, 12, 13, 14]\n",
            "List after adding ---->   [11, 12, 13, 14, 50, 60]\n",
            "List after removing ---->   [12, 14, 50, 60]\n",
            "List after sorting in ascending order ---->   [12, 14, 50, 60]\n",
            "List after sorting in descending order ---->   [60, 50, 14, 12]\n",
            "13 is not present in the List.\n",
            "Number of elements in the List are  4\n",
            "Summation of all the elements in the List is  136\n",
            "List is --->   [60, 50, 14, 12]\n",
            "The sum of odd values is  0\n",
            "List is --->   [60, 50, 14, 12]\n",
            "The sum of even values is  136\n",
            "List is ---->   [60, 50, 14, 12]\n",
            "The sum of Prime numbers in the list is  0\n",
            "Original List ---->   [60, 50, 14, 12]\n",
            "List now ---->   []\n"
          ]
        }
      ],
      "source": [
        "L=[11,12,13,14]\n",
        "print(\"Original List ---->  \",L)\n",
        "\n",
        "#(i) WAP to add 50 and 60 to L.\n",
        "L.append(50)\n",
        "L.append(60)\n",
        "print(\"List after adding ---->  \",L)\n",
        "\n",
        "#(ii) WAP to remove 11 and 13from L.\n",
        "del L[0]\n",
        "del L[1]\n",
        "print(\"List after removing ---->  \",L)\n",
        "\n",
        "#(iii) WAP to sort L in ascending order\n",
        "L.sort()\n",
        "print(\"List after sorting in ascending order ---->  \",L)\n",
        "\n",
        "#(iv) WAP to sort L in descending order.\n",
        "L.sort(reverse=True)\n",
        "print(\"List after sorting in descending order ---->  \",L)\n",
        "\n",
        "#(v) WAP to search for 13 in L.\n",
        "if 13 in L == True:\n",
        "  print(\"13 is Present in the List.\")\n",
        "else:\n",
        "  print(\"13 is not present in the List.\")\n",
        "\n",
        "#(vi) WAP to count the number of elements present in L.\n",
        "print(\"Number of elements in the List are \",len(L))\n",
        "\n",
        "#(vii) WAP to sum all the elements in L.\n",
        "print(\"Summation of all the elements in the List is \",sum(L))\n",
        "\n",
        "#(viii) WAP to sum all ODD numbers in L.\n",
        "odd_sum=0\n",
        "for i in range(len(L)):\n",
        "  if L[i]%2==1:\n",
        "    odd_sum=odd_sum+L[i]\n",
        "    break\n",
        "print(\"List is --->  \",L)\n",
        "print(\"The sum of odd values is \",odd_sum)\n",
        "\n",
        "#(ix) WAP to sum all EVEN numbers in L.\n",
        "even_sum=0\n",
        "for i in range(len(L)):\n",
        "  if L[i]%2==0:\n",
        "    even_sum=even_sum+L[i]\n",
        "    \n",
        "print(\"List is --->  \",L)\n",
        "print(\"The sum of even values is \",even_sum)\n",
        "\n",
        "#(x) WAP to sum all PRIME numbers in L.\n",
        "f=0\n",
        "for i in range(2,len(L)):\n",
        "  if L[i]%i==0:\n",
        "    f=1\n",
        "    break\n",
        "prime_sum=0\n",
        "for i in range(len(L)):\n",
        "  if f==0:\n",
        "    prime_sum=prime_sum+L[i]\n",
        "print(\"List is ---->  \",L)\n",
        "print(\"The sum of Prime numbers in the list is \",prime_sum)\n",
        "\n",
        "#(xi) WAP to clear all the elements in L.\n",
        "print(\"Original List ---->  \",L)\n",
        "L.clear()\n",
        "print(\"List now ---->  \",L)\n",
        "\n",
        "#(xii) WAP to delete L.\n",
        "del L"
      ]
    },
    {
      "cell_type": "markdown",
      "source": [
        "----\n",
        "Q2."
      ],
      "metadata": {
        "id": "usjwhx7TwSxM"
      }
    },
    {
      "cell_type": "code",
      "source": [
        "D= {1:5.6, 2:7.8, 3:6.6, 4:8.7, 5:7.7}\n",
        "print(\"Original Dictionary ---->  \",D)\n",
        "\n",
        "#(i) WAP to add new entry in D; key=8 and value is 8.8\n",
        "D[8]=8.8\n",
        "print(\"Dictionary after updating (8) ---->  \",D)\n",
        "\n",
        "# (ii) WAP to remove key=2.\n",
        "del D[2]\n",
        "print(\"Dictionary after updating ---->  \",D)\n",
        "\n",
        "# (iii) WAP to check weather 6 key is present in D.\n",
        "print(\"Is key 6 is present? ---> \", 6 in D)\n",
        "\n",
        "# (iv) WAP to count the number of elements present in D.\n",
        "f=0\n",
        "for i in D:\n",
        "  f=f+1\n",
        "print(\"The number of elements in the Dictionary is \",f)\n",
        "\n",
        "# (v) WAP to add all the values present D.\n",
        "print(\"Summation of all values present in D is \", sum(D))\n",
        "\n",
        "# (vi) WAP to update the value of 3 to 7.1.\n",
        "D[3]=7.1\n",
        "print(\"Dictionary after updating ---->  \",D)\n",
        "\n",
        "# (vii) WAP to clear the dictionary.\n",
        "D.clear()\n",
        "print(\"Dictionary after updating ---->  \",D)"
      ],
      "metadata": {
        "colab": {
          "base_uri": "https://localhost:8080/"
        },
        "id": "MmCQHPyCwUlC",
        "outputId": "92fb59c5-46a4-4bef-e6ec-9b56b647d286"
      },
      "execution_count": 42,
      "outputs": [
        {
          "output_type": "stream",
          "name": "stdout",
          "text": [
            "Original Dictionary ---->   {1: 5.6, 2: 7.8, 3: 6.6, 4: 8.7, 5: 7.7}\n",
            "Dictionary after updating (8) ---->   {1: 5.6, 2: 7.8, 3: 6.6, 4: 8.7, 5: 7.7, 8: 8.8}\n",
            "Dictionary after updating ---->   {1: 5.6, 3: 6.6, 4: 8.7, 5: 7.7, 8: 8.8}\n",
            "Is key 6 is present? --->  False\n",
            "The number of elements in the Dictionary is  5\n",
            "Summation of all values present in D is  21\n",
            "Dictionary after updating ---->   {1: 5.6, 3: 7.1, 4: 8.7, 5: 7.7, 8: 8.8}\n",
            "Dictionary after updating ---->   {}\n"
          ]
        }
      ]
    },
    {
      "cell_type": "markdown",
      "source": [
        "----\n",
        "Q3."
      ],
      "metadata": {
        "id": "R6dWTeL3HLJf"
      }
    },
    {
      "cell_type": "code",
      "source": [
        "S1 = {10, 20, 30, 40, 50, 60}\n",
        "S2 = {40, 50, 60, 70, 80, 90}\n",
        "\n",
        "# (i) Add 55 and 66 in Set S1\n",
        "S1.add(55)\n",
        "S1.add(66)\n",
        "print(\"Updated S1:\", S1)\n",
        "\n",
        "# (ii) Remove 10 and 30 from Set S1\n",
        "S1.remove(10)\n",
        "S1.remove(30)\n",
        "print(\"Updated S1:\", S1)\n",
        "\n",
        "# (iii) Check whether 40 is present in S1\n",
        "if 40 in S1:\n",
        "    print(\"40 is present in S1\")\n",
        "else:\n",
        "    print(\"40 is not present in S1\")\n",
        "\n",
        "# (iv) Find the union between S1 and S2\n",
        "union = S1.union(S2)\n",
        "print(\"Union of S1 and S2:\", union)\n",
        "\n",
        "# (v) Find the intersection between S1 and S2\n",
        "intersection = S1.intersection(S2)\n",
        "\n",
        "# (vi) Find S1 - S2\n",
        "difference = S1 - S2\n",
        "print(\"S1 - S2:\",difference)\n"
      ],
      "metadata": {
        "colab": {
          "base_uri": "https://localhost:8080/"
        },
        "id": "6qR93YE7HN13",
        "outputId": "56e771d4-db95-40ed-b2f9-2d5c0c511b17"
      },
      "execution_count": 44,
      "outputs": [
        {
          "output_type": "stream",
          "name": "stdout",
          "text": [
            "Updated S1: {50, 66, 20, 55, 40, 10, 60, 30}\n",
            "Updated S1: {50, 66, 20, 55, 40, 60}\n",
            "40 is present in S1\n",
            "Union of S1 and S2: {66, 70, 40, 80, 50, 20, 55, 90, 60}\n",
            "S1 - S2: {66, 20, 55}\n"
          ]
        }
      ]
    },
    {
      "cell_type": "markdown",
      "source": [
        "-----\n",
        "Q4."
      ],
      "metadata": {
        "id": "LyNHJfwyHkY2"
      }
    },
    {
      "cell_type": "code",
      "source": [
        "import random\n",
        "import string\n",
        "\n",
        "for _ in range(100):\n",
        "    length = random.randint(6, 8)\n",
        "    random_string = ''.join(random.choices(string.ascii_lowercase, k=length))\n",
        "    print(random_string)\n",
        "for num in range(600, 801):\n",
        "    if all(num % i != 0 for i in range(2, int(num**0.5) + 1)):\n",
        "        print(num)\n",
        "for num in range(100, 1001):\n",
        "    if num % 7 == 0 and num % 9 == 0:\n",
        "      print(num)"
      ],
      "metadata": {
        "colab": {
          "base_uri": "https://localhost:8080/"
        },
        "id": "ey7Tc7B6HmYm",
        "outputId": "e1d00707-92c2-45e8-c324-c654beceaffb"
      },
      "execution_count": 45,
      "outputs": [
        {
          "output_type": "stream",
          "name": "stdout",
          "text": [
            "jyqcsu\n",
            "koburobs\n",
            "gmvlbzv\n",
            "mzqpdc\n",
            "fktfmkae\n",
            "pdwwtyp\n",
            "kahwgtwb\n",
            "sscqmxvb\n",
            "hfibrqrq\n",
            "awdgxpff\n",
            "uuohjc\n",
            "mknvczpr\n",
            "dacaciuj\n",
            "xzbmymgy\n",
            "eqtojt\n",
            "kwkcnhek\n",
            "ftyvxopv\n",
            "wumsvci\n",
            "vqmbtafh\n",
            "uqmlrd\n",
            "fygqiwv\n",
            "fyhztwl\n",
            "sqkpee\n",
            "obeevltd\n",
            "tdavuiz\n",
            "teptmeo\n",
            "aqvpcn\n",
            "uijvlpt\n",
            "ndqqfu\n",
            "avjlkb\n",
            "rbxxosw\n",
            "cfhnhje\n",
            "vjmsarxr\n",
            "gblvmzb\n",
            "ycfapip\n",
            "wawriw\n",
            "takywuq\n",
            "abyxeza\n",
            "masxxn\n",
            "hllqhz\n",
            "woigpzc\n",
            "iplljvyk\n",
            "uxrjux\n",
            "hvhbdktd\n",
            "kwaprh\n",
            "jjsyzw\n",
            "qyjgvq\n",
            "aqsvyl\n",
            "hbnvvvgy\n",
            "vvcogv\n",
            "qiblosei\n",
            "cqozlnz\n",
            "wdfwgs\n",
            "znfgsrh\n",
            "hextfc\n",
            "zzbwhwc\n",
            "cqpuhg\n",
            "utrwbpj\n",
            "trhxsvj\n",
            "icjloxcb\n",
            "cdyufpsi\n",
            "supmmta\n",
            "cxtgcq\n",
            "mqwsyuuv\n",
            "lfelgi\n",
            "azccsndc\n",
            "odpsaw\n",
            "zqysni\n",
            "iwvfdx\n",
            "egpfkhdb\n",
            "aypxwunz\n",
            "dsciadra\n",
            "bqadarnc\n",
            "uopigay\n",
            "kghmdsi\n",
            "toxfqxs\n",
            "hhiugs\n",
            "bsdmhjxp\n",
            "juvymnr\n",
            "fymbhig\n",
            "lgfdlw\n",
            "sbizivf\n",
            "xlsxzyt\n",
            "llprel\n",
            "ztrcdkvj\n",
            "emzbeiuw\n",
            "vxompyrf\n",
            "oaqggv\n",
            "adicfio\n",
            "dnaemre\n",
            "tmamovsj\n",
            "wqcjmlhw\n",
            "lfmidyv\n",
            "rryuxyqu\n",
            "crqwqih\n",
            "rjnrcril\n",
            "jjtieo\n",
            "kvjkofa\n",
            "vresegi\n",
            "vtldyg\n",
            "601\n",
            "607\n",
            "613\n",
            "617\n",
            "619\n",
            "631\n",
            "641\n",
            "643\n",
            "647\n",
            "653\n",
            "659\n",
            "661\n",
            "673\n",
            "677\n",
            "683\n",
            "691\n",
            "701\n",
            "709\n",
            "719\n",
            "727\n",
            "733\n",
            "739\n",
            "743\n",
            "751\n",
            "757\n",
            "761\n",
            "769\n",
            "773\n",
            "787\n",
            "797\n",
            "126\n",
            "189\n",
            "252\n",
            "315\n",
            "378\n",
            "441\n",
            "504\n",
            "567\n",
            "630\n",
            "693\n",
            "756\n",
            "819\n",
            "882\n",
            "945\n"
          ]
        }
      ]
    },
    {
      "cell_type": "markdown",
      "source": [
        "----\n",
        "Q5."
      ],
      "metadata": {
        "id": "uSu4Yet-IF0q"
      }
    },
    {
      "cell_type": "code",
      "source": [
        "import random\n",
        "\n",
        "# Create two lists of 10 random numbers between 10 and 30\n",
        "list1 = random.sample(range(10, 31), 10)\n",
        "list2 = random.sample(range(10, 31), 10)\n",
        "\n",
        "print(\"List 1:\", list1)\n",
        "print(\"List 2:\", list2)\n",
        "\n",
        "# (i) Find common numbers in the two lists\n",
        "common_numbers = set(list1).intersection(list2)\n",
        "print(\"Common numbers:\", common_numbers)\n",
        "\n",
        "# (ii) Find unique numbers in both lists\n",
        "unique_numbers = set(list1).symmetric_difference(list2)\n",
        "print(\"Unique numbers:\", unique_numbers)\n",
        "\n",
        "# (iii) Find the minimum in both lists\n",
        "min_list1 = min(list1)\n",
        "min_list2 = min(list2)\n",
        "print(\"Minimum in List 1:\", min_list1)\n",
        "print(\"Minimum in List 2:\", min_list2)\n",
        "\n",
        "# (iv) Find the maximum in both lists\n",
        "max_list1 = max(list1)\n",
        "max_list2 = max(list2)\n",
        "print(\"Maximum in List 1:\", max_list1)\n",
        "print(\"Maximum in List 2:\", max_list2)\n",
        "\n",
        "# (v) Find the sum of both lists\n",
        "sum_lists = sum(list1) + sum(list2)\n",
        "print(\"Sum of both lists:\", sum_lists)"
      ],
      "metadata": {
        "colab": {
          "base_uri": "https://localhost:8080/"
        },
        "id": "FkIbqFJ3IHxX",
        "outputId": "0da9f054-8157-4616-c503-4bc2d22b0828"
      },
      "execution_count": 46,
      "outputs": [
        {
          "output_type": "stream",
          "name": "stdout",
          "text": [
            "List 1: [18, 21, 26, 12, 28, 30, 27, 24, 23, 25]\n",
            "List 2: [26, 22, 16, 27, 15, 10, 20, 21, 19, 28]\n",
            "Common numbers: {26, 27, 28, 21}\n",
            "Unique numbers: {10, 12, 15, 16, 18, 19, 20, 22, 23, 24, 25, 30}\n",
            "Minimum in List 1: 12\n",
            "Minimum in List 2: 10\n",
            "Maximum in List 1: 30\n",
            "Maximum in List 2: 28\n",
            "Sum of both lists: 438\n"
          ]
        }
      ]
    },
    {
      "cell_type": "markdown",
      "source": [
        "-------\n",
        "Q6."
      ],
      "metadata": {
        "id": "22xIgNyGIRly"
      }
    },
    {
      "cell_type": "code",
      "source": [
        "import random\n",
        "\n",
        "random_list = random.sample(range(100, 901), 100)\n",
        "\n",
        "# (i) Count and print all odd numbers\n",
        "odd_numbers = [num for num in random_list if num % 2 != 0]\n",
        "print(\"Odd numbers:\")\n",
        "for num in odd_numbers:\n",
        "    print(num, end=\" \")\n",
        "print(\"\\nCount of odd numbers:\", len(odd_numbers))\n",
        "\n",
        "# (ii) Count and print all even numbers\n",
        "even_numbers = [num for num in random_list if num % 2 == 0]\n",
        "print(\"\\nEven numbers:\")\n",
        "for num in even_numbers:\n",
        "    print(num, end=\" \")\n",
        "print(\"\\nCount of even numbers:\", len(even_numbers))\n",
        "\n",
        "# (iii) Count and print all prime numbers\n",
        "def is_prime(num):\n",
        "    if num < 2:\n",
        "        return False\n",
        "    for i in range(2, int(num**0.5) + 1):\n",
        "        if num % i == 0:\n",
        "            return False\n",
        "    return True\n",
        "\n",
        "prime_numbers = [num for num in random_list if is_prime(num)]\n",
        "print(\"\\nPrime numbers:\")\n",
        "for num in prime_numbers:\n",
        "    print(num, end=\" \")\n",
        "print(\"\\nCount of prime numbers:\", len(prime_numbers))"
      ],
      "metadata": {
        "colab": {
          "base_uri": "https://localhost:8080/"
        },
        "id": "D1mBy__7ITm4",
        "outputId": "4021ba7f-f4d9-42b0-cafe-11408b0f82af"
      },
      "execution_count": 48,
      "outputs": [
        {
          "output_type": "stream",
          "name": "stdout",
          "text": [
            "Odd numbers:\n",
            "199 633 535 465 247 493 711 447 473 599 733 445 895 183 343 617 487 409 845 489 105 103 891 301 779 241 375 321 541 831 509 671 765 389 381 101 529 293 345 819 521 205 795 461 859 713 \n",
            "Count of odd numbers: 46\n",
            "\n",
            "Even numbers:\n",
            "532 526 446 706 242 250 158 418 408 528 470 480 694 398 372 856 804 206 134 506 612 500 472 440 424 836 144 234 888 818 546 280 834 344 666 428 476 152 116 674 822 196 120 488 898 132 300 360 474 554 866 276 350 630 \n",
            "Count of even numbers: 54\n",
            "\n",
            "Prime numbers:\n",
            "199 599 733 617 487 409 103 241 541 509 389 101 293 521 461 859 \n",
            "Count of prime numbers: 16\n"
          ]
        }
      ]
    },
    {
      "cell_type": "markdown",
      "source": [
        "-----\n",
        "Q7."
      ],
      "metadata": {
        "id": "EIui0y34In8z"
      }
    },
    {
      "cell_type": "code",
      "source": [
        "D = {1: \"One\", 2: \"Two\", 3: \"Three\", 4: \"Four\", 5: \"Five\"}\n",
        "\n",
        "with open(\"output.txt\", \"w\") as file:\n",
        "    \n",
        "    for key, value in D.items():\n",
        "       file.write(f\"{key},{value}\\n\")"
      ],
      "metadata": {
        "id": "ABLM1b1-IpzF"
      },
      "execution_count": 50,
      "outputs": []
    },
    {
      "cell_type": "markdown",
      "source": [
        "-----\n",
        "Q8."
      ],
      "metadata": {
        "id": "2g7DvhclI-bf"
      }
    },
    {
      "cell_type": "code",
      "source": [
        "L = [\"One\", \"Two\", \"Three\", \"Four\", \"Five\"]\n",
        "\n",
        "with open(\"element_lengths.txt\", \"w\") as file:\n",
        "    for element in L:\n",
        "        length = len(element)\n",
        "        file.write(f\"{element},{length}\\n\")"
      ],
      "metadata": {
        "id": "xwkbIWCKI-IP"
      },
      "execution_count": 52,
      "outputs": []
    },
    {
      "cell_type": "markdown",
      "source": [
        "-----\n",
        "Q9."
      ],
      "metadata": {
        "id": "u8YDg9fJJdpt"
      }
    },
    {
      "cell_type": "code",
      "source": [
        "import random\n",
        "import string\n",
        "\n",
        "def generate_random_string():\n",
        "    length = random.randint(10, 15)\n",
        "    letters = string.ascii_lowercase\n",
        "    return ''.join(random.choice(letters) for _ in range(length))\n",
        "\n",
        "with open(\"random_strings.txt\", \"w\") as file:  \n",
        "    for _ in range(100):\n",
        "        random_string = generate_random_string()\n",
        "        file.write(random_string+\"\\n\")"
      ],
      "metadata": {
        "id": "nN_hdmnWJhGx"
      },
      "execution_count": 53,
      "outputs": []
    },
    {
      "cell_type": "markdown",
      "source": [
        "-----\n",
        "Q10."
      ],
      "metadata": {
        "id": "dBSND21gJx0i"
      }
    },
    {
      "cell_type": "code",
      "source": [
        "def is_prime(n):\n",
        "    if n < 2:\n",
        "        return False\n",
        "    for i in range(2, int(n**0.5) + 1):\n",
        "        if n % i == 0:\n",
        "            return False\n",
        "    return True\n",
        "\n",
        "with open(\"prime_numbers.txt\", \"w\") as file:\n",
        "    for num in range(600, 801):\n",
        "        if is_prime(num):\n",
        "            file.write(str(num)+\"\\n\")"
      ],
      "metadata": {
        "id": "9eHu_aIgJ0FR"
      },
      "execution_count": 55,
      "outputs": []
    },
    {
      "cell_type": "markdown",
      "source": [
        "-----\n",
        "Q11."
      ],
      "metadata": {
        "id": "6noZ14UBKBBw"
      }
    },
    {
      "cell_type": "code",
      "source": [
        "import time\n",
        "import random\n",
        "import string\n",
        "\n",
        "start_time = time.time()\n",
        "\n",
        "for _ in range(100):\n",
        "    length = random.randint(6, 8)\n",
        "    random_string = ''.join(random.choices(string.ascii_lowercase, k=length))\n",
        "    print(random_string)\n",
        "for num in range(600, 801):\n",
        "    if all(num % i != 0 for i in range(2, int(num**0.5) + 1)):\n",
        "        print(num)\n",
        "for num in range(100, 1001):\n",
        "    if num % 7 == 0 and num % 9 == 0:\n",
        "      print(num)\n",
        "\n",
        "end_time = time.time()\n",
        "\n",
        "elapsed_time = end_time - start_time\n",
        "\n",
        "print(f\"Time taken: {elapsed_time}seconds\")"
      ],
      "metadata": {
        "colab": {
          "base_uri": "https://localhost:8080/"
        },
        "id": "LaVUSsO8KC4e",
        "outputId": "22116ef2-d5ec-4afd-86ec-00d2c01567b4"
      },
      "execution_count": 57,
      "outputs": [
        {
          "output_type": "stream",
          "name": "stdout",
          "text": [
            "qccsuyax\n",
            "hlxanb\n",
            "tkuijbc\n",
            "mzadgrx\n",
            "soabps\n",
            "rwdzjmld\n",
            "jyziicpf\n",
            "fbmtom\n",
            "ingzdkfx\n",
            "zgtntzbp\n",
            "dtjdai\n",
            "tkwwupcm\n",
            "bisenk\n",
            "hweycr\n",
            "ehuxuzqb\n",
            "ivlebpb\n",
            "pfvskvd\n",
            "iuwooh\n",
            "devdzcs\n",
            "suzrbrn\n",
            "mplwgo\n",
            "wvmskck\n",
            "hscfua\n",
            "ovdzwqcl\n",
            "onqkqg\n",
            "fcvpgdq\n",
            "uodbjc\n",
            "bpajice\n",
            "uacbrue\n",
            "bviugz\n",
            "rbzhrt\n",
            "zhkcuvk\n",
            "bogklhw\n",
            "vnpyrey\n",
            "uiyalgs\n",
            "dvfcpvh\n",
            "uolzonol\n",
            "ezotqp\n",
            "lkogyhto\n",
            "usnybs\n",
            "zdtdtqw\n",
            "idlssvd\n",
            "enxcmcuv\n",
            "mligrvcn\n",
            "ncbaole\n",
            "useozk\n",
            "hllwaldh\n",
            "mckaxl\n",
            "kkpkylf\n",
            "mzqrvrue\n",
            "vdkear\n",
            "edfses\n",
            "pqsshh\n",
            "ftlogua\n",
            "yllsou\n",
            "jpgzszm\n",
            "klziuzdl\n",
            "qcrwqsa\n",
            "aaanko\n",
            "lvijimdp\n",
            "aiwbhnu\n",
            "qvzwamk\n",
            "jtsxbm\n",
            "toorkv\n",
            "kxdybp\n",
            "noavph\n",
            "rikerc\n",
            "ybgorv\n",
            "bioytkx\n",
            "ovptto\n",
            "xrgeps\n",
            "vsqaocpb\n",
            "cvfbxmp\n",
            "hocigtwz\n",
            "xbmnzu\n",
            "oyfjqxeg\n",
            "svhlpbt\n",
            "bpwkumkj\n",
            "qtkvwk\n",
            "tyokgrmi\n",
            "lpnifxoq\n",
            "spvmcff\n",
            "xyrwrsn\n",
            "qpjuqb\n",
            "vgdbmmn\n",
            "phnbwjty\n",
            "wuggtm\n",
            "rugwps\n",
            "comjstq\n",
            "xqugucx\n",
            "pucvbx\n",
            "hbldggr\n",
            "raklbgsu\n",
            "kaqyew\n",
            "skiflssy\n",
            "pmjjmod\n",
            "vwmeydbg\n",
            "ncdgrw\n",
            "svydexoo\n",
            "rwsqzil\n",
            "601\n",
            "607\n",
            "613\n",
            "617\n",
            "619\n",
            "631\n",
            "641\n",
            "643\n",
            "647\n",
            "653\n",
            "659\n",
            "661\n",
            "673\n",
            "677\n",
            "683\n",
            "691\n",
            "701\n",
            "709\n",
            "719\n",
            "727\n",
            "733\n",
            "739\n",
            "743\n",
            "751\n",
            "757\n",
            "761\n",
            "769\n",
            "773\n",
            "787\n",
            "797\n",
            "126\n",
            "189\n",
            "252\n",
            "315\n",
            "378\n",
            "441\n",
            "504\n",
            "567\n",
            "630\n",
            "693\n",
            "756\n",
            "819\n",
            "882\n",
            "945\n",
            "Time taken: 0.01736283302307129seconds\n"
          ]
        }
      ]
    },
    {
      "cell_type": "markdown",
      "source": [
        "--------\n",
        "Q13."
      ],
      "metadata": {
        "id": "FzMgc7sdKrZ_"
      }
    },
    {
      "cell_type": "code",
      "source": [
        "student_marks = {\n",
        "    \"John\": [85, 92, 78, 90, 88],\n",
        "    \"Emma\": [77, 80, 85, 79, 92],\n",
        "    \"Michael\": [90, 88, 93, 87, 82],\n",
        "    \"Sophia\": [82, 89, 95, 78, 91],\n",
        "    \"William\": [88, 91, 84, 79, 83]\n",
        "}\n",
        "\n",
        "average_marks = {}\n",
        "for student, marks in student_marks.items():\n",
        "    average_marks[student] = sum(marks) / len(marks)\n",
        "\n",
        "max_student = max(average_marks, key=average_marks.get)\n",
        "max_average_mark = average_marks[max_student]\n",
        "\n",
        "min_student = min(average_marks, key=average_marks.get)\n",
        "min_average_mark = average_marks[min_student]\n",
        "\n",
        "print(\"Student with Maximum Average Mark:\")\n",
        "print(\"Name:\", max_student)\n",
        "print(\"Average Mark:\", max_average_mark)\n",
        "print()\n",
        "print(\"Student with Minimum Average Mark:\")\n",
        "print(\"Name:\", min_student)\n",
        "print(\"Average Mark:\", min_average_mark)"
      ],
      "metadata": {
        "colab": {
          "base_uri": "https://localhost:8080/"
        },
        "id": "JspltmBbKtMr",
        "outputId": "2b013472-bbda-4b34-b9f9-3579dcc9f18a"
      },
      "execution_count": 58,
      "outputs": [
        {
          "output_type": "stream",
          "name": "stdout",
          "text": [
            "Student with Maximum Average Mark:\n",
            "Name: Michael\n",
            "Average Mark: 88.0\n",
            "\n",
            "Student with Minimum Average Mark:\n",
            "Name: Emma\n",
            "Average Mark: 82.6\n"
          ]
        }
      ]
    }
  ]
}